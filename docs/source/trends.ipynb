{
 "cells": [
  {
   "cell_type": "markdown",
   "metadata": {},
   "source": [
    "# Downloading Google Trends Data\n",
    "Google trends data can be quite usefull to understand behavioral differences in response to a public health risk, particulary when it comes to gaugin the perception of such risk."
   ]
  },
  {
   "cell_type": "code",
   "execution_count": null,
   "metadata": {},
   "outputs": [],
   "source": [
    "from epigraphhub.data.ggtrends import *"
   ]
  },
  {
   "cell_type": "code",
   "execution_count": null,
   "metadata": {},
   "outputs": [],
   "source": []
  }
 ],
 "metadata": {
  "interpreter": {
   "hash": "184170553db9360be88ff63651cbe1efde0af991b4df86807d4b259cf0f027c4"
  },
  "kernelspec": {
   "display_name": "Python 3.9.7 64-bit ('epigraphhub-py-Dgstx0Qo-py3.9': poetry)",
   "language": "python",
   "name": "python3"
  },
  "language_info": {
   "name": "python",
   "version": "3.9.7"
  },
  "orig_nbformat": 4
 },
 "nbformat": 4,
 "nbformat_minor": 2
}
